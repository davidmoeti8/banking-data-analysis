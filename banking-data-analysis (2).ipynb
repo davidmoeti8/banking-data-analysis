{
 "cells": [
  {
   "cell_type": "markdown",
   "id": "1282fb78",
   "metadata": {
    "papermill": {
     "duration": 0.005039,
     "end_time": "2025-08-10T15:56:29.650069",
     "exception": false,
     "start_time": "2025-08-10T15:56:29.645030",
     "status": "completed"
    },
    "tags": []
   },
   "source": [
    "# 🏦 Banking Data Cleaning & Insights with MySQL, Python & Tableau\n",
    "*An end-to-end exploration of anonymized banking transactions*\n"
   ]
  },
  {
   "cell_type": "markdown",
   "id": "1dc03fa9",
   "metadata": {
    "papermill": {
     "duration": 0.003828,
     "end_time": "2025-08-10T15:56:29.658253",
     "exception": false,
     "start_time": "2025-08-10T15:56:29.654425",
     "status": "completed"
    },
    "tags": []
   },
   "source": [
    "## 1. Introduction\n",
    "This project combines **SQL (MySQL)**, **Python**, and **Tableau** to clean, transform, and analyze anonymized banking data.  \n",
    "\n",
    "**Key objectives:**\n",
    "- Prepare clean, analysis-ready data by removing duplicates, fixing formats, and enriching variables.\n",
    "- Explore customer segments by age, income, debt, and credit score.\n",
    "- Uncover spending patterns across merchant types, states, and time of day.\n",
    "- Present results via Tableau dashboards and Python visualizations.\n"
   ]
  },
  {
   "cell_type": "markdown",
   "id": "7ec82a64",
   "metadata": {
    "papermill": {
     "duration": 0.003859,
     "end_time": "2025-08-10T15:56:29.666029",
     "exception": false,
     "start_time": "2025-08-10T15:56:29.662170",
     "status": "completed"
    },
    "tags": []
   },
   "source": [
    "# Install and import libraries\n",
    "%pip install duckdb pandas matplotlib seaborn --quiet\n",
    "\n",
    "import duckdb\n",
    "import pandas as pd\n",
    "import matplotlib.pyplot as plt\n",
    "import seaborn as sns\n",
    "\n",
    "# Configure plots\n",
    "sns.set(style=\"whitegrid\")\n",
    "plt.rcParams[\"figure.figsize\"] = (10, 6)\n"
   ]
  },
  {
   "cell_type": "markdown",
   "id": "27b3ef24",
   "metadata": {
    "papermill": {
     "duration": 0.003987,
     "end_time": "2025-08-10T15:56:29.674049",
     "exception": false,
     "start_time": "2025-08-10T15:56:29.670062",
     "status": "completed"
    },
    "tags": []
   },
   "source": [
    "## 2. Load Data\n",
    "I'll load anonymized banking datasets into Pandas and register them in DuckDB for SQL analysis.\n"
   ]
  },
  {
   "cell_type": "code",
   "execution_count": 1,
   "id": "7c31b2a3",
   "metadata": {
    "execution": {
     "iopub.execute_input": "2025-08-10T15:56:29.683650Z",
     "iopub.status.busy": "2025-08-10T15:56:29.682903Z",
     "iopub.status.idle": "2025-08-10T15:56:31.369670Z",
     "shell.execute_reply": "2025-08-10T15:56:31.368715Z"
    },
    "papermill": {
     "duration": 1.693442,
     "end_time": "2025-08-10T15:56:31.371144",
     "exception": false,
     "start_time": "2025-08-10T15:56:29.677702",
     "status": "completed"
    },
    "tags": []
   },
   "outputs": [
    {
     "name": "stdout",
     "output_type": "stream",
     "text": [
      "Data prepared and saved to /kaggle/working/banking_data_subset.csv\n"
     ]
    }
   ],
   "source": [
    "import pandas as pd\n",
    "\n",
    "# Load raw data\n",
    "users_path = '/kaggle/input/bank-data-raw/users_data_staging.csv'\n",
    "transactions_path = '/kaggle/input/bank-data-raw/transactions_full2.csv'\n",
    "users_df = pd.read_csv(users_path)\n",
    "transactions_df = pd.read_csv(transactions_path)\n",
    "\n",
    "# Merge datasets (SQL equivalent)\n",
    "merged_df = pd.merge(\n",
    "    transactions_df[['id', 'date', 'amount_in_$', 'use_chip', 'merchant_state', 'card_brand', \n",
    "                     'card_type', 'type_of_merchant', 'client_id']],\n",
    "    users_df[['user_id', 'current_age', 'yearly_income_$', 'total_debt_$', 'credit_score', 'num_credit_cards']],\n",
    "    how='left', left_on='client_id', right_on='user_id'\n",
    ").drop(columns=['user_id'])\n",
    "merged_df['date'] = pd.to_datetime(merged_df['date']).dt.strftime('%Y-%m-%d')\n",
    "\n",
    "# Save to working directory\n",
    "output_path = '/kaggle/working/banking_data_subset.csv'\n",
    "merged_df.to_csv(output_path, index=False)\n",
    "print(f\"Data prepared and saved to {output_path}\")"
   ]
  },
  {
   "cell_type": "code",
   "execution_count": 2,
   "id": "9774b2c1",
   "metadata": {
    "execution": {
     "iopub.execute_input": "2025-08-10T15:56:31.381725Z",
     "iopub.status.busy": "2025-08-10T15:56:31.381098Z",
     "iopub.status.idle": "2025-08-10T15:56:31.385454Z",
     "shell.execute_reply": "2025-08-10T15:56:31.384730Z"
    },
    "papermill": {
     "duration": 0.010643,
     "end_time": "2025-08-10T15:56:31.386673",
     "exception": false,
     "start_time": "2025-08-10T15:56:31.376030",
     "status": "completed"
    },
    "tags": []
   },
   "outputs": [
    {
     "name": "stdout",
     "output_type": "stream",
     "text": [
      "['__notebook__.ipynb', 'banking_data_subset.csv']\n"
     ]
    }
   ],
   "source": [
    "import os\n",
    "print(os.listdir('/kaggle/working/'))"
   ]
  },
  {
   "cell_type": "markdown",
   "id": "79c1b5da",
   "metadata": {
    "papermill": {
     "duration": 0.004771,
     "end_time": "2025-08-10T15:56:31.395685",
     "exception": false,
     "start_time": "2025-08-10T15:56:31.390914",
     "status": "completed"
    },
    "tags": []
   },
   "source": [
    "## 3. Data Cleaning (SQL)\n",
    "We perform:\n",
    "1. Duplicate removal using `ROW_NUMBER()` window functions.\n",
    "2. Currency conversion from text to numeric.\n",
    "3. Date format conversion from `MM/YYYY` to `DATE`.\n",
    "4. Card brand/type standardization.\n"
   ]
  },
  {
   "cell_type": "code",
   "execution_count": 3,
   "id": "afa67b21",
   "metadata": {
    "execution": {
     "iopub.execute_input": "2025-08-10T15:56:31.404937Z",
     "iopub.status.busy": "2025-08-10T15:56:31.404741Z",
     "iopub.status.idle": "2025-08-10T15:56:37.412894Z",
     "shell.execute_reply": "2025-08-10T15:56:37.412108Z"
    },
    "papermill": {
     "duration": 6.014679,
     "end_time": "2025-08-10T15:56:37.414458",
     "exception": false,
     "start_time": "2025-08-10T15:56:31.399779",
     "status": "completed"
    },
    "tags": []
   },
   "outputs": [
    {
     "name": "stdout",
     "output_type": "stream",
     "text": [
      "Note: you may need to restart the kernel to use updated packages.\n"
     ]
    }
   ],
   "source": [
    "# Install dependencies\n",
    "%pip install duckdb pandas matplotlib seaborn --quiet\n",
    "\n",
    "import duckdb\n",
    "import pandas as pd\n",
    "import matplotlib.pyplot as plt\n",
    "import seaborn as sns\n",
    "\n",
    "# Configure visual style\n",
    "sns.set(style=\"whitegrid\")\n",
    "plt.rcParams[\"figure.figsize\"] = (10, 6)\n"
   ]
  },
  {
   "cell_type": "code",
   "execution_count": 4,
   "id": "ac6a7c3e",
   "metadata": {
    "execution": {
     "iopub.execute_input": "2025-08-10T15:56:37.424957Z",
     "iopub.status.busy": "2025-08-10T15:56:37.424627Z",
     "iopub.status.idle": "2025-08-10T15:56:37.428237Z",
     "shell.execute_reply": "2025-08-10T15:56:37.427738Z"
    },
    "papermill": {
     "duration": 0.010088,
     "end_time": "2025-08-10T15:56:37.429381",
     "exception": false,
     "start_time": "2025-08-10T15:56:37.419293",
     "status": "completed"
    },
    "tags": []
   },
   "outputs": [],
   "source": [
    "import warnings\n",
    "warnings.filterwarnings(\"ignore\", category=RuntimeWarning)\n"
   ]
  },
  {
   "cell_type": "code",
   "execution_count": 5,
   "id": "12cf375d",
   "metadata": {
    "execution": {
     "iopub.execute_input": "2025-08-10T15:56:37.439613Z",
     "iopub.status.busy": "2025-08-10T15:56:37.439145Z",
     "iopub.status.idle": "2025-08-10T15:56:37.663695Z",
     "shell.execute_reply": "2025-08-10T15:56:37.662832Z"
    },
    "papermill": {
     "duration": 0.230957,
     "end_time": "2025-08-10T15:56:37.665007",
     "exception": false,
     "start_time": "2025-08-10T15:56:37.434050",
     "status": "completed"
    },
    "tags": []
   },
   "outputs": [
    {
     "data": {
      "text/plain": [
       "(        id                 date  client_id  card_id  amount_in_$  \\\n",
       " 0  7475327  2010-01-01 00:01:00       1556     2972       -77.00   \n",
       " 1  7475328  2010-01-01 00:02:00        561     4575        14.57   \n",
       " 2  7475329  2010-01-01 00:02:00       1129      102        80.00   \n",
       " \n",
       "             use_chip  merchant_id merchant_city merchant_state      zip  \\\n",
       " 0  Swipe Transaction        59935        Beulah             ND  58523.0   \n",
       " 1  Swipe Transaction        67570    Bettendorf             IA  52722.0   \n",
       " 2  Swipe Transaction        27092         Vista             CA  92084.0   \n",
       " \n",
       "       mcc errors  per_capita_income_$  total_debt_$  yearly_income_$  \\\n",
       " 0  5499.0    NaN              23679.0      110153.0          48277.0   \n",
       " 1  5311.0    NaN              18076.0      112139.0          36853.0   \n",
       " 2  4829.0    NaN              16894.0       36540.0          34449.0   \n",
       " \n",
       "             type_of_merchant  card_brand card_type  year_pin_last_changed  \\\n",
       " 0  Miscellaneous Food Stores        Amex    Credit                 2020.0   \n",
       " 1          Department Stores         NaN       NaN                    NaN   \n",
       " 2             Money Transfer  Mastercard     Debit                 2010.0   \n",
       " \n",
       "   has_chip  \n",
       " 0      YES  \n",
       " 1      NaN  \n",
       " 2      YES  ,\n",
       "    user_id  current_age  retirement_age  birth_year  birth_month  gender  \\\n",
       " 0      825           53              66        1966           11  Female   \n",
       " 1     1746           53              68        1966           12  Female   \n",
       " 2     1718           81              67        1938           11  Female   \n",
       " \n",
       "                   address  latitude  longitude  per_capita_income_$  \\\n",
       " 0           462 Rose Lane     34.15    -117.76              29278.0   \n",
       " 1  3606 Federal Boulevard     40.76     -73.74              37891.0   \n",
       " 2         766 Third Drive     34.02    -117.89              22681.0   \n",
       " \n",
       "    yearly_income_$  total_debt_$  credit_score  num_credit_cards  \n",
       " 0          59696.0      127613.0           787                 5  \n",
       " 1          77254.0      191349.0           701                 5  \n",
       " 2          33483.0         196.0           698                 5  )"
      ]
     },
     "execution_count": 5,
     "metadata": {},
     "output_type": "execute_result"
    }
   ],
   "source": [
    "# Load the datasets\n",
    "transactions_df = pd.read_csv(\"/kaggle/input/bank-data-raw/transactions_full2.csv\")\n",
    "users_df = pd.read_csv(\"/kaggle/input/bank-data-raw/users_data_staging.csv\")\n",
    "\n",
    "# Register with DuckDB\n",
    "con = duckdb.connect()\n",
    "con.register(\"transactions\", transactions_df)\n",
    "con.register(\"users\", users_df)\n",
    "\n",
    "transactions_df.head(3), users_df.head(3)\n"
   ]
  },
  {
   "cell_type": "markdown",
   "id": "89e4a452",
   "metadata": {
    "papermill": {
     "duration": 0.004348,
     "end_time": "2025-08-10T15:56:37.674178",
     "exception": false,
     "start_time": "2025-08-10T15:56:37.669830",
     "status": "completed"
    },
    "tags": []
   },
   "source": [
    "## 2. Customer Segmentation by Age Group\n",
    "We categorize customers into:\n",
    "- **Young** (18–35)\n",
    "- **Adult** (36–59)\n",
    "- **Senior** (60+)\n",
    "\n",
    "We then compare **average debt** and **average income** for each group.\n"
   ]
  },
  {
   "cell_type": "code",
   "execution_count": 6,
   "id": "97f5689f",
   "metadata": {
    "execution": {
     "iopub.execute_input": "2025-08-10T15:56:37.684214Z",
     "iopub.status.busy": "2025-08-10T15:56:37.683969Z",
     "iopub.status.idle": "2025-08-10T15:56:37.723559Z",
     "shell.execute_reply": "2025-08-10T15:56:37.722810Z"
    },
    "papermill": {
     "duration": 0.046402,
     "end_time": "2025-08-10T15:56:37.724933",
     "exception": false,
     "start_time": "2025-08-10T15:56:37.678531",
     "status": "completed"
    },
    "tags": []
   },
   "outputs": [
    {
     "data": {
      "text/html": [
       "<div>\n",
       "<style scoped>\n",
       "    .dataframe tbody tr th:only-of-type {\n",
       "        vertical-align: middle;\n",
       "    }\n",
       "\n",
       "    .dataframe tbody tr th {\n",
       "        vertical-align: top;\n",
       "    }\n",
       "\n",
       "    .dataframe thead th {\n",
       "        text-align: right;\n",
       "    }\n",
       "</style>\n",
       "<table border=\"1\" class=\"dataframe\">\n",
       "  <thead>\n",
       "    <tr style=\"text-align: right;\">\n",
       "      <th></th>\n",
       "      <th>age_group</th>\n",
       "      <th>avg_debt</th>\n",
       "      <th>avg_income</th>\n",
       "    </tr>\n",
       "  </thead>\n",
       "  <tbody>\n",
       "    <tr>\n",
       "      <th>0</th>\n",
       "      <td>Young</td>\n",
       "      <td>75890.587896</td>\n",
       "      <td>47638.952450</td>\n",
       "    </tr>\n",
       "    <tr>\n",
       "      <th>1</th>\n",
       "      <td>Adult</td>\n",
       "      <td>70278.582558</td>\n",
       "      <td>46827.332558</td>\n",
       "    </tr>\n",
       "    <tr>\n",
       "      <th>2</th>\n",
       "      <td>Senior</td>\n",
       "      <td>32089.100897</td>\n",
       "      <td>40580.325112</td>\n",
       "    </tr>\n",
       "  </tbody>\n",
       "</table>\n",
       "</div>"
      ],
      "text/plain": [
       "  age_group      avg_debt    avg_income\n",
       "0     Young  75890.587896  47638.952450\n",
       "1     Adult  70278.582558  46827.332558\n",
       "2    Senior  32089.100897  40580.325112"
      ]
     },
     "execution_count": 6,
     "metadata": {},
     "output_type": "execute_result"
    }
   ],
   "source": [
    "age_stats = con.execute(\"\"\"\n",
    "SELECT CASE\n",
    "    WHEN current_age >= 60 THEN 'Senior'\n",
    "    WHEN current_age >= 36 THEN 'Adult'\n",
    "    WHEN current_age >= 18 THEN 'Young'\n",
    "    ELSE 'Underage'\n",
    "END AS age_group,\n",
    "AVG(total_debt_$) AS avg_debt,\n",
    "AVG(yearly_income_$) AS avg_income\n",
    "FROM users\n",
    "GROUP BY age_group\n",
    "ORDER BY avg_debt DESC\n",
    "\"\"\").df()\n",
    "\n",
    "age_stats\n"
   ]
  },
  {
   "cell_type": "code",
   "execution_count": 7,
   "id": "2ce512f0",
   "metadata": {
    "execution": {
     "iopub.execute_input": "2025-08-10T15:56:37.735119Z",
     "iopub.status.busy": "2025-08-10T15:56:37.734913Z",
     "iopub.status.idle": "2025-08-10T15:56:37.994065Z",
     "shell.execute_reply": "2025-08-10T15:56:37.993233Z"
    },
    "papermill": {
     "duration": 0.265602,
     "end_time": "2025-08-10T15:56:37.995304",
     "exception": false,
     "start_time": "2025-08-10T15:56:37.729702",
     "status": "completed"
    },
    "tags": []
   },
   "outputs": [
    {
     "data": {
      "image/png": "[encoded data removed]",
      "text/plain": [
       "<Figure size 1000x600 with 1 Axes>"
      ]
     },
     "metadata": {},
     "output_type": "display_data"
    }
   ],
   "source": [
    "sns.barplot(x=\"age_group\", y=\"avg_debt\", data=age_stats, palette=\"viridis\")\n",
    "plt.title(\"Average Debt by Age Group\")\n",
    "plt.ylabel(\"Average Debt ($)\")\n",
    "plt.xlabel(\"Age Group\")\n",
    "plt.show()\n"
   ]
  },
  {
   "cell_type": "markdown",
   "id": "293f3f6b",
   "metadata": {
    "papermill": {
     "duration": 0.005183,
     "end_time": "2025-08-10T15:56:38.005896",
     "exception": false,
     "start_time": "2025-08-10T15:56:38.000713",
     "status": "completed"
    },
    "tags": []
   },
   "source": [
    "## 📊 Business Insights: Customer Segmentation by Age Group\n",
    "\n",
    "**Insights**  \n",
    "- **Young adults (18–35)** show the highest average debt *and* income, suggesting early-stage asset building and credit use.  \n",
    "- **Adults (36–59)** have moderate debt with stable incomes.  \n",
    "- **Seniors (60+)** carry the least debt, often due to retirement or fully paid-off liabilities.  \n",
    "\n",
    "**Assumptions**  \n",
    "- Younger customers may be more comfortable with debt for lifestyle or investment purposes.  \n",
    "- Seniors may prefer financial conservatism and lower credit usage.  \n",
    "\n",
    "**Recommendations**  \n",
    "- Offer **financial literacy programs** and **debt management tools** to young customers.  \n",
    "- Create **wealth growth products** (e.g., investment-linked savings) for adults.  \n",
    "- Provide **low-risk saving options** for seniors, like fixed deposits or government bonds.\n"
   ]
  },
  {
   "cell_type": "markdown",
   "id": "5f7cefef",
   "metadata": {
    "papermill": {
     "duration": 0.004698,
     "end_time": "2025-08-10T15:56:38.015209",
     "exception": false,
     "start_time": "2025-08-10T15:56:38.010511",
     "status": "completed"
    },
    "tags": []
   },
   "source": [
    "## 3. Debt vs Credit Score\n",
    "We group credit scores into **FICO bands**:\n",
    "- Poor (480–579)\n",
    "- Fair (580–669)\n",
    "- Good (670–739)\n",
    "- Very Good (740–799)\n",
    "- Excellent (800–850)\n"
   ]
  },
  {
   "cell_type": "code",
   "execution_count": 8,
   "id": "3f769381",
   "metadata": {
    "execution": {
     "iopub.execute_input": "2025-08-10T15:56:38.025951Z",
     "iopub.status.busy": "2025-08-10T15:56:38.025721Z",
     "iopub.status.idle": "2025-08-10T15:56:38.040338Z",
     "shell.execute_reply": "2025-08-10T15:56:38.039683Z"
    },
    "papermill": {
     "duration": 0.021363,
     "end_time": "2025-08-10T15:56:38.041501",
     "exception": false,
     "start_time": "2025-08-10T15:56:38.020138",
     "status": "completed"
    },
    "tags": []
   },
   "outputs": [
    {
     "data": {
      "text/html": [
       "<div>\n",
       "<style scoped>\n",
       "    .dataframe tbody tr th:only-of-type {\n",
       "        vertical-align: middle;\n",
       "    }\n",
       "\n",
       "    .dataframe tbody tr th {\n",
       "        vertical-align: top;\n",
       "    }\n",
       "\n",
       "    .dataframe thead th {\n",
       "        text-align: right;\n",
       "    }\n",
       "</style>\n",
       "<table border=\"1\" class=\"dataframe\">\n",
       "  <thead>\n",
       "    <tr style=\"text-align: right;\">\n",
       "      <th></th>\n",
       "      <th>credit_score_group</th>\n",
       "      <th>avg_debt</th>\n",
       "    </tr>\n",
       "  </thead>\n",
       "  <tbody>\n",
       "    <tr>\n",
       "      <th>0</th>\n",
       "      <td>Fair</td>\n",
       "      <td>78339.804598</td>\n",
       "    </tr>\n",
       "    <tr>\n",
       "      <th>1</th>\n",
       "      <td>Poor</td>\n",
       "      <td>74022.962963</td>\n",
       "    </tr>\n",
       "    <tr>\n",
       "      <th>2</th>\n",
       "      <td>Very Good</td>\n",
       "      <td>60200.147679</td>\n",
       "    </tr>\n",
       "    <tr>\n",
       "      <th>3</th>\n",
       "      <td>Good</td>\n",
       "      <td>60068.810956</td>\n",
       "    </tr>\n",
       "    <tr>\n",
       "      <th>4</th>\n",
       "      <td>Excellent</td>\n",
       "      <td>58447.849398</td>\n",
       "    </tr>\n",
       "  </tbody>\n",
       "</table>\n",
       "</div>"
      ],
      "text/plain": [
       "  credit_score_group      avg_debt\n",
       "0               Fair  78339.804598\n",
       "1               Poor  74022.962963\n",
       "2          Very Good  60200.147679\n",
       "3               Good  60068.810956\n",
       "4          Excellent  58447.849398"
      ]
     },
     "execution_count": 8,
     "metadata": {},
     "output_type": "execute_result"
    }
   ],
   "source": [
    "credit_stats = con.execute(\"\"\"\n",
    "SELECT CASE \n",
    "    WHEN credit_score BETWEEN 480 AND 579 THEN 'Poor'\n",
    "    WHEN credit_score BETWEEN 580 AND 669 THEN 'Fair'\n",
    "    WHEN credit_score BETWEEN 670 AND 739 THEN 'Good'\n",
    "    WHEN credit_score BETWEEN 740 AND 799 THEN 'Very Good'\n",
    "    WHEN credit_score BETWEEN 800 AND 850 THEN 'Excellent'\n",
    "    ELSE 'Unknown'\n",
    "END AS credit_score_group,\n",
    "AVG(total_debt_$) AS avg_debt\n",
    "FROM users\n",
    "GROUP BY credit_score_group\n",
    "ORDER BY avg_debt DESC\n",
    "\"\"\").df()\n",
    "\n",
    "credit_stats\n"
   ]
  },
  {
   "cell_type": "code",
   "execution_count": 9,
   "id": "3cc3fe58",
   "metadata": {
    "execution": {
     "iopub.execute_input": "2025-08-10T15:56:38.053095Z",
     "iopub.status.busy": "2025-08-10T15:56:38.052864Z",
     "iopub.status.idle": "2025-08-10T15:56:38.253733Z",
     "shell.execute_reply": "2025-08-10T15:56:38.252861Z"
    },
    "papermill": {
     "duration": 0.208348,
     "end_time": "2025-08-10T15:56:38.255198",
     "exception": false,
     "start_time": "2025-08-10T15:56:38.046850",
     "status": "completed"
    },
    "tags": []
   },
   "outputs": [
    {
     "data": {
      "image/png": "[encoded data removed]",
      "text/plain": [
       "<Figure size 1000x600 with 1 Axes>"
      ]
     },
     "metadata": {},
     "output_type": "display_data"
    }
   ],
   "source": [
    "sns.barplot(x=\"credit_score_group\", y=\"avg_debt\", data=credit_stats, palette=\"coolwarm\")\n",
    "plt.title(\"Average Debt by Credit Score Group\")\n",
    "plt.ylabel(\"Average Debt ($)\")\n",
    "plt.xlabel(\"Credit Score Group\")\n",
    "plt.show()\n"
   ]
  },
  {
   "cell_type": "markdown",
   "id": "72fe1111",
   "metadata": {
    "papermill": {
     "duration": 0.005585,
     "end_time": "2025-08-10T15:56:38.267288",
     "exception": false,
     "start_time": "2025-08-10T15:56:38.261703",
     "status": "completed"
    },
    "tags": []
   },
   "source": [
    "## 📊 Business Insights: Debt vs Credit Score\n",
    "\n",
    "**Insights**  \n",
    "- **Poor & Fair credit score groups** carry the highest debt.  \n",
    "- **Very Good & Excellent credit score holders** have significantly lower average debt.  \n",
    "- Lower scores may indicate higher risk and repayment challenges.  \n",
    "\n",
    "**Assumptions**  \n",
    "- Debt includes mortgages, personal loans, and credit cards — not all debt is “bad debt.”  \n",
    "- Credit score is a lagging indicator of repayment habits.  \n",
    "\n",
    "**Recommendations**  \n",
    "- Introduce **early intervention programs** for poor credit holders (e.g., debt restructuring).  \n",
    "- **Segment lending rates** based on credit score risk.  \n",
    "- Offer **credit score improvement plans** and reward upward score movement.\n"
   ]
  },
  {
   "cell_type": "markdown",
   "id": "98fd7f7a",
   "metadata": {
    "papermill": {
     "duration": 0.005886,
     "end_time": "2025-08-10T15:56:38.278781",
     "exception": false,
     "start_time": "2025-08-10T15:56:38.272895",
     "status": "completed"
    },
    "tags": []
   },
   "source": [
    "## 4. Top Merchant Categories\n",
    "We find the **top 10 merchant types** by transaction count.\n"
   ]
  },
  {
   "cell_type": "code",
   "execution_count": 10,
   "id": "6d61bf93",
   "metadata": {
    "execution": {
     "iopub.execute_input": "2025-08-10T15:56:38.291883Z",
     "iopub.status.busy": "2025-08-10T15:56:38.291620Z",
     "iopub.status.idle": "2025-08-10T15:56:38.310818Z",
     "shell.execute_reply": "2025-08-10T15:56:38.310214Z"
    },
    "papermill": {
     "duration": 0.027172,
     "end_time": "2025-08-10T15:56:38.311979",
     "exception": false,
     "start_time": "2025-08-10T15:56:38.284807",
     "status": "completed"
    },
    "tags": []
   },
   "outputs": [
    {
     "data": {
      "text/html": [
       "<div>\n",
       "<style scoped>\n",
       "    .dataframe tbody tr th:only-of-type {\n",
       "        vertical-align: middle;\n",
       "    }\n",
       "\n",
       "    .dataframe tbody tr th {\n",
       "        vertical-align: top;\n",
       "    }\n",
       "\n",
       "    .dataframe thead th {\n",
       "        text-align: right;\n",
       "    }\n",
       "</style>\n",
       "<table border=\"1\" class=\"dataframe\">\n",
       "  <thead>\n",
       "    <tr style=\"text-align: right;\">\n",
       "      <th></th>\n",
       "      <th>type_of_merchant</th>\n",
       "      <th>transaction_count</th>\n",
       "    </tr>\n",
       "  </thead>\n",
       "  <tbody>\n",
       "    <tr>\n",
       "      <th>0</th>\n",
       "      <td>Grocery Stores, Supermarkets</td>\n",
       "      <td>1524</td>\n",
       "    </tr>\n",
       "    <tr>\n",
       "      <th>1</th>\n",
       "      <td>Miscellaneous Food Stores</td>\n",
       "      <td>1238</td>\n",
       "    </tr>\n",
       "    <tr>\n",
       "      <th>2</th>\n",
       "      <td>Service Stations</td>\n",
       "      <td>1221</td>\n",
       "    </tr>\n",
       "    <tr>\n",
       "      <th>3</th>\n",
       "      <td>Eating Places and Restaurants</td>\n",
       "      <td>987</td>\n",
       "    </tr>\n",
       "    <tr>\n",
       "      <th>4</th>\n",
       "      <td>Drug Stores and Pharmacies</td>\n",
       "      <td>562</td>\n",
       "    </tr>\n",
       "    <tr>\n",
       "      <th>5</th>\n",
       "      <td>Fast Food Restaurants</td>\n",
       "      <td>534</td>\n",
       "    </tr>\n",
       "    <tr>\n",
       "      <th>6</th>\n",
       "      <td>Money Transfer</td>\n",
       "      <td>525</td>\n",
       "    </tr>\n",
       "    <tr>\n",
       "      <th>7</th>\n",
       "      <td>Wholesale Clubs</td>\n",
       "      <td>513</td>\n",
       "    </tr>\n",
       "    <tr>\n",
       "      <th>8</th>\n",
       "      <td>Automotive Service Shops</td>\n",
       "      <td>402</td>\n",
       "    </tr>\n",
       "    <tr>\n",
       "      <th>9</th>\n",
       "      <td>Drinking Places (Alcoholic Beverages)</td>\n",
       "      <td>297</td>\n",
       "    </tr>\n",
       "  </tbody>\n",
       "</table>\n",
       "</div>"
      ],
      "text/plain": [
       "                        type_of_merchant  transaction_count\n",
       "0           Grocery Stores, Supermarkets               1524\n",
       "1              Miscellaneous Food Stores               1238\n",
       "2                       Service Stations               1221\n",
       "3          Eating Places and Restaurants                987\n",
       "4             Drug Stores and Pharmacies                562\n",
       "5                  Fast Food Restaurants                534\n",
       "6                         Money Transfer                525\n",
       "7                        Wholesale Clubs                513\n",
       "8               Automotive Service Shops                402\n",
       "9  Drinking Places (Alcoholic Beverages)                297"
      ]
     },
     "execution_count": 10,
     "metadata": {},
     "output_type": "execute_result"
    }
   ],
   "source": [
    "merchant_counts = con.execute(\"\"\"\n",
    "SELECT type_of_merchant, COUNT(*) AS transaction_count\n",
    "FROM transactions\n",
    "GROUP BY type_of_merchant\n",
    "ORDER BY transaction_count DESC\n",
    "LIMIT 10\n",
    "\"\"\").df()\n",
    "\n",
    "merchant_counts\n"
   ]
  },
  {
   "cell_type": "code",
   "execution_count": 11,
   "id": "79e6fbb3",
   "metadata": {
    "execution": {
     "iopub.execute_input": "2025-08-10T15:56:38.326765Z",
     "iopub.status.busy": "2025-08-10T15:56:38.326546Z",
     "iopub.status.idle": "2025-08-10T15:56:38.593311Z",
     "shell.execute_reply": "2025-08-10T15:56:38.592552Z"
    },
    "papermill": {
     "duration": 0.275407,
     "end_time": "2025-08-10T15:56:38.594790",
     "exception": false,
     "start_time": "2025-08-10T15:56:38.319383",
     "status": "completed"
    },
    "tags": []
   },
   "outputs": [
    {
     "data": {
      "image/png": "[encoded data removed]",
      "text/plain": [
       "<Figure size 1000x600 with 1 Axes>"
      ]
     },
     "metadata": {},
     "output_type": "display_data"
    }
   ],
   "source": [
    "sns.barplot(y=\"type_of_merchant\", x=\"transaction_count\", data=merchant_counts, palette=\"mako\")\n",
    "plt.title(\"Top 10 Merchant Categories\")\n",
    "plt.xlabel(\"Transaction Count\")\n",
    "plt.ylabel(\"Merchant Type\")\n",
    "plt.show()\n"
   ]
  },
  {
   "cell_type": "markdown",
   "id": "4d77b9c0",
   "metadata": {
    "papermill": {
     "duration": 0.00696,
     "end_time": "2025-08-10T15:56:38.610107",
     "exception": false,
     "start_time": "2025-08-10T15:56:38.603147",
     "status": "completed"
    },
    "tags": []
   },
   "source": [
    "## 📊 Business Insights: Merchant Category Spending\n",
    "\n",
    "**Insights**  \n",
    "- **Grocery stores** dominate transaction volume, representing essential spending.  \n",
    "- Other key categories likely include gas stations, retail, and restaurants.  \n",
    "- High transaction count ≠ high spend — some categories have frequent low-value purchases.  \n",
    "\n",
    "**Assumptions**  \n",
    "- Merchant categories are accurately classified.  \n",
    "- No seasonal event skew in current dataset.  \n",
    "\n",
    "**Recommendations**  \n",
    "- Build **cashback/rewards partnerships** with high-volume merchant categories.  \n",
    "- Use merchant data for **personalized offers**.  \n",
    "- Create **loyalty programs** for frequently visited merchants.\n"
   ]
  },
  {
   "cell_type": "markdown",
   "id": "e54a0883",
   "metadata": {
    "papermill": {
     "duration": 0.007058,
     "end_time": "2025-08-10T15:56:38.624140",
     "exception": false,
     "start_time": "2025-08-10T15:56:38.617082",
     "status": "completed"
    },
    "tags": []
   },
   "source": [
    "## 5. Transactions by State\n",
    "We identify the states with the highest number of transactions.\n"
   ]
  },
  {
   "cell_type": "code",
   "execution_count": 12,
   "id": "a663e4ba",
   "metadata": {
    "execution": {
     "iopub.execute_input": "2025-08-10T15:56:38.640235Z",
     "iopub.status.busy": "2025-08-10T15:56:38.639502Z",
     "iopub.status.idle": "2025-08-10T15:56:38.655731Z",
     "shell.execute_reply": "2025-08-10T15:56:38.654928Z"
    },
    "papermill": {
     "duration": 0.02549,
     "end_time": "2025-08-10T15:56:38.656901",
     "exception": false,
     "start_time": "2025-08-10T15:56:38.631411",
     "status": "completed"
    },
    "tags": []
   },
   "outputs": [
    {
     "data": {
      "text/html": [
       "<div>\n",
       "<style scoped>\n",
       "    .dataframe tbody tr th:only-of-type {\n",
       "        vertical-align: middle;\n",
       "    }\n",
       "\n",
       "    .dataframe tbody tr th {\n",
       "        vertical-align: top;\n",
       "    }\n",
       "\n",
       "    .dataframe thead th {\n",
       "        text-align: right;\n",
       "    }\n",
       "</style>\n",
       "<table border=\"1\" class=\"dataframe\">\n",
       "  <thead>\n",
       "    <tr style=\"text-align: right;\">\n",
       "      <th></th>\n",
       "      <th>merchant_state</th>\n",
       "      <th>transaction_count</th>\n",
       "    </tr>\n",
       "  </thead>\n",
       "  <tbody>\n",
       "    <tr>\n",
       "      <th>0</th>\n",
       "      <td>CA</td>\n",
       "      <td>1157</td>\n",
       "    </tr>\n",
       "    <tr>\n",
       "      <th>1</th>\n",
       "      <td>TX</td>\n",
       "      <td>964</td>\n",
       "    </tr>\n",
       "    <tr>\n",
       "      <th>2</th>\n",
       "      <td>NY</td>\n",
       "      <td>797</td>\n",
       "    </tr>\n",
       "    <tr>\n",
       "      <th>3</th>\n",
       "      <td>FL</td>\n",
       "      <td>688</td>\n",
       "    </tr>\n",
       "    <tr>\n",
       "      <th>4</th>\n",
       "      <td>OH</td>\n",
       "      <td>447</td>\n",
       "    </tr>\n",
       "    <tr>\n",
       "      <th>5</th>\n",
       "      <td>IL</td>\n",
       "      <td>420</td>\n",
       "    </tr>\n",
       "    <tr>\n",
       "      <th>6</th>\n",
       "      <td>NC</td>\n",
       "      <td>371</td>\n",
       "    </tr>\n",
       "    <tr>\n",
       "      <th>7</th>\n",
       "      <td>PA</td>\n",
       "      <td>354</td>\n",
       "    </tr>\n",
       "    <tr>\n",
       "      <th>8</th>\n",
       "      <td>MI</td>\n",
       "      <td>321</td>\n",
       "    </tr>\n",
       "    <tr>\n",
       "      <th>9</th>\n",
       "      <td>IN</td>\n",
       "      <td>310</td>\n",
       "    </tr>\n",
       "  </tbody>\n",
       "</table>\n",
       "</div>"
      ],
      "text/plain": [
       "  merchant_state  transaction_count\n",
       "0             CA               1157\n",
       "1             TX                964\n",
       "2             NY                797\n",
       "3             FL                688\n",
       "4             OH                447\n",
       "5             IL                420\n",
       "6             NC                371\n",
       "7             PA                354\n",
       "8             MI                321\n",
       "9             IN                310"
      ]
     },
     "execution_count": 12,
     "metadata": {},
     "output_type": "execute_result"
    }
   ],
   "source": [
    "state_counts = con.execute(\"\"\"\n",
    "SELECT merchant_state, COUNT(*) AS transaction_count\n",
    "FROM transactions\n",
    "GROUP BY merchant_state\n",
    "ORDER BY transaction_count DESC\n",
    "\"\"\").df()\n",
    "\n",
    "state_counts.head(10)\n"
   ]
  },
  {
   "cell_type": "code",
   "execution_count": 13,
   "id": "520d8c15",
   "metadata": {
    "execution": {
     "iopub.execute_input": "2025-08-10T15:56:38.673806Z",
     "iopub.status.busy": "2025-08-10T15:56:38.673115Z",
     "iopub.status.idle": "2025-08-10T15:56:38.897549Z",
     "shell.execute_reply": "2025-08-10T15:56:38.896702Z"
    },
    "papermill": {
     "duration": 0.233673,
     "end_time": "2025-08-10T15:56:38.898853",
     "exception": false,
     "start_time": "2025-08-10T15:56:38.665180",
     "status": "completed"
    },
    "tags": []
   },
   "outputs": [
    {
     "data": {
      "image/png": "[encoded data removed]",
      "text/plain": [
       "<Figure size 1000x600 with 1 Axes>"
      ]
     },
     "metadata": {},
     "output_type": "display_data"
    }
   ],
   "source": [
    "sns.barplot(y=\"merchant_state\", x=\"transaction_count\", data=state_counts.head(10), palette=\"crest\")\n",
    "plt.title(\"Top 10 States by Transaction Volume\")\n",
    "plt.xlabel(\"Transaction Count\")\n",
    "plt.ylabel(\"State\")\n",
    "plt.show()\n"
   ]
  },
  {
   "cell_type": "markdown",
   "id": "28a721a2",
   "metadata": {
    "papermill": {
     "duration": 0.00809,
     "end_time": "2025-08-10T15:56:38.916572",
     "exception": false,
     "start_time": "2025-08-10T15:56:38.908482",
     "status": "completed"
    },
    "tags": []
   },
   "source": [
    "## 📊 Business Insights: Transactions by State\n",
    "\n",
    "**Insights**  \n",
    "- States like **California** dominate transaction volumes, possibly due to population density and high economic activity.  \n",
    "- Some states have lower penetration, indicating untapped markets.  \n",
    "\n",
    "**Assumptions**  \n",
    "- Merchant state = transaction location.  \n",
    "- Population size partly explains transaction counts.  \n",
    "\n",
    "**Recommendations**  \n",
    "- **Double down on marketing** in high-volume states to deepen relationships.  \n",
    "- **Investigate low-volume states** for entry strategies.  \n",
    "- Tailor **state-specific promotions** based on local demand.\n"
   ]
  },
  {
   "cell_type": "markdown",
   "id": "fd8f0364",
   "metadata": {
    "papermill": {
     "duration": 0.008631,
     "end_time": "2025-08-10T15:56:38.933946",
     "exception": false,
     "start_time": "2025-08-10T15:56:38.925315",
     "status": "completed"
    },
    "tags": []
   },
   "source": [
    "## 6. Time of Day Analysis\n",
    "We categorize transactions into:\n",
    "- Midnight (00:00–05:59)\n",
    "- Morning (06:00–11:59)\n",
    "- Afternoon (12:00–17:59)\n",
    "- Evening (18:00–20:59)\n",
    "- Night (21:00–23:59)\n"
   ]
  },
  {
   "cell_type": "code",
   "execution_count": 14,
   "id": "0f65d92d",
   "metadata": {
    "execution": {
     "iopub.execute_input": "2025-08-10T15:56:38.952607Z",
     "iopub.status.busy": "2025-08-10T15:56:38.951976Z",
     "iopub.status.idle": "2025-08-10T15:56:39.126617Z",
     "shell.execute_reply": "2025-08-10T15:56:39.125889Z"
    },
    "papermill": {
     "duration": 0.185328,
     "end_time": "2025-08-10T15:56:39.127941",
     "exception": false,
     "start_time": "2025-08-10T15:56:38.942613",
     "status": "completed"
    },
    "tags": []
   },
   "outputs": [
    {
     "data": {
      "image/png": "[encoded data removed]",
      "text/plain": [
       "<Figure size 1000x600 with 1 Axes>"
      ]
     },
     "metadata": {},
     "output_type": "display_data"
    }
   ],
   "source": [
    "transactions_df[\"date\"] = pd.to_datetime(transactions_df[\"date\"])\n",
    "transactions_df[\"hour\"] = transactions_df[\"date\"].dt.hour\n",
    "\n",
    "def time_of_day(hour):\n",
    "    if 0 <= hour <= 5:\n",
    "        return \"Midnight\"\n",
    "    elif 6 <= hour <= 11:\n",
    "        return \"Morning\"\n",
    "    elif 12 <= hour <= 17:\n",
    "        return \"Afternoon\"\n",
    "    elif 18 <= hour <= 20:\n",
    "        return \"Evening\"\n",
    "    else:\n",
    "        return \"Night\"\n",
    "\n",
    "transactions_df[\"time_of_day\"] = transactions_df[\"hour\"].apply(time_of_day)\n",
    "\n",
    "time_counts = transactions_df[\"time_of_day\"].value_counts().reset_index()\n",
    "time_counts.columns = [\"time_of_day\", \"transaction_count\"]\n",
    "\n",
    "sns.barplot(x=\"time_of_day\", y=\"transaction_count\", data=time_counts, palette=\"flare\")\n",
    "plt.title(\"Transactions by Time of Day\")\n",
    "plt.xlabel(\"Time of Day\")\n",
    "plt.ylabel(\"Transaction Count\")\n",
    "plt.show()\n"
   ]
  },
  {
   "cell_type": "markdown",
   "id": "f87e4ba7",
   "metadata": {
    "papermill": {
     "duration": 0.009237,
     "end_time": "2025-08-10T15:56:39.147447",
     "exception": false,
     "start_time": "2025-08-10T15:56:39.138210",
     "status": "completed"
    },
    "tags": []
   },
   "source": [
    "## 📊 Business Insights: Time of Day Analysis\n",
    "\n",
    "**Insights**  \n",
    "- **Morning & Afternoon** are peak transaction windows.  \n",
    "- **Midnight hours** see the least activity.  \n",
    "\n",
    "**Assumptions**  \n",
    "- Timestamps are in local time.  \n",
    "- Behavior is consistent across weekdays and weekends.  \n",
    "\n",
    "**Recommendations**  \n",
    "- Schedule **system updates during midnight** to minimize disruption.  \n",
    "- Push **promotions and notifications** during peak times.  \n",
    "- Offer **off-peak incentives** to increase quiet-hour transactions.\n"
   ]
  },
  {
   "cell_type": "markdown",
   "id": "01c44459",
   "metadata": {
    "papermill": {
     "duration": 0.008979,
     "end_time": "2025-08-10T15:56:39.165681",
     "exception": false,
     "start_time": "2025-08-10T15:56:39.156702",
     "status": "completed"
    },
    "tags": []
   },
   "source": [
    "## Visualizations with Tableau and Python\n",
    "\n",
    "This section presents visualizations generated using Tableau, supplemented by Python-based plots to validate and extend the insights derived from the `banking_data_subset.csv` dataset."
   ]
  },
  {
   "cell_type": "markdown",
   "id": "77e6da51",
   "metadata": {
    "papermill": {
     "duration": 0.008833,
     "end_time": "2025-08-10T15:56:39.183731",
     "exception": false,
     "start_time": "2025-08-10T15:56:39.174898",
     "status": "completed"
    },
    "tags": []
   },
   "source": [
    "\n",
    "\n",
    "![Credit Score vs Debt](https://i.imgur.com/lPkhbVh.png) \n",
    " *Figure 1: Relationship Between Credit Score and Debt*\n",
    "\n",
    "![Income vs Debt](https://i.imgur.com/xzHUUwl.png)\n",
    "*Figure 2: Scatter Plot of Debt vs Income* \n",
    "\n",
    "\n",
    "![Num of Credit Cards per Person](https://i.imgur.com/xxQvokF.png)\n",
    "*Figure 3: Debt Distribution by Number of Credit Cards*\n",
    "\n",
    "![Transaction per Merchant](https://i.imgur.com/tFosJw0.png)\n",
    "*Figure 4: Transaction Counts by State*\n",
    "\n",
    "![Transaction per Time](https://i.imgur.com/SyveNDj.png)\n",
    "*Figure 5: Transactions Over Time*\n",
    "\n",
    "![Dashboard](https://i.imgur.com/BtoMjEE.png)\n",
    " *Figure 6: Comprehensive Dashboard of Banking Data*"
   ]
  },
  {
   "cell_type": "markdown",
   "id": "376b49ec",
   "metadata": {
    "papermill": {
     "duration": 0.009191,
     "end_time": "2025-08-10T15:56:39.202036",
     "exception": false,
     "start_time": "2025-08-10T15:56:39.192845",
     "status": "completed"
    },
    "tags": []
   },
   "source": [
    "## 📝 Final Takeaway\n",
    "\n",
    "These insights can directly inform **product design, marketing campaigns, credit risk management, and customer loyalty programs**, helping maximize profitability while improving customer experience."
   ]
  }
 ],
 "metadata": {
  "kaggle": {
   "accelerator": "none",
   "dataSources": [
    {
     "datasetId": 8038022,
     "sourceId": 12717529,
     "sourceType": "datasetVersion"
    },
    {
     "datasetId": 8038289,
     "sourceId": 12717913,
     "sourceType": "datasetVersion"
    }
   ],
   "dockerImageVersionId": 31089,
   "isGpuEnabled": false,
   "isInternetEnabled": false,
   "language": "python",
   "sourceType": "notebook"
  },
  "kernelspec": {
   "display_name": "Python 3",
   "language": "python",
   "name": "python3"
  },
  "language_info": {
   "codemirror_mode": {
    "name": "ipython",
    "version": 3
   },
   "file_extension": ".py",
   "mimetype": "text/x-python",
   "name": "python",
   "nbconvert_exporter": "python",
   "pygments_lexer": "ipython3",
   "version": "3.11.13"
  },
  "papermill": {
   "default_parameters": {},
   "duration": 14.131467,
   "end_time": "2025-08-10T15:56:39.728451",
   "environment_variables": {},
   "exception": null,
   "input_path": "__notebook__.ipynb",
   "output_path": "__notebook__.ipynb",
   "parameters": {},
   "start_time": "2025-08-10T15:56:25.596984",
   "version": "2.6.0"
  }
 },
 "nbformat": 4,
 "nbformat_minor": 5
}
